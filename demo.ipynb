{
 "cells": [
  {
   "cell_type": "markdown",
   "id": "5162c199",
   "metadata": {},
   "source": [
    "# Demonstration Notebook: Parallel MBTI Inference Requests"
   ]
  },
  {
   "cell_type": "markdown",
   "id": "42dc3e62",
   "metadata": {},
   "source": [
    "This notebook demonstrates concurrent POST requests to a containerized FastAPI endpoint running a fine-tuned MBTI classification model hosted via Hugging Face Transformers.\n",
    "\n",
    "IMPORTANT : The notebook assumes that the server is running locally on port 8000"
   ]
  },
  {
   "cell_type": "code",
   "execution_count": 1,
   "id": "b6a99012",
   "metadata": {},
   "outputs": [],
   "source": [
    "import requests\n",
    "import concurrent\n",
    "import time"
   ]
  },
  {
   "cell_type": "code",
   "execution_count": 2,
   "id": "0677c3b5",
   "metadata": {},
   "outputs": [],
   "source": [
    "# endpoint URL for the prediction service\n",
    "URL = \"http://localhost:8000/predict\""
   ]
  },
  {
   "cell_type": "code",
   "execution_count": 3,
   "id": "50464222",
   "metadata": {},
   "outputs": [],
   "source": [
    "# test texts to analyze\n",
    "texts = [\n",
    "    \"Somebody mentioned not blaming personality type for lack of success or something... For me it has helped to know the limits of my type so I can stop wanting delusional things like being a pop star...\",\n",
    "    \"Ugh, so much procrastination. I started a paper that I had multiple months to do the day that it was due at 3 a.m. and finished it at 6 a.m. even though it had to be 8 pages and be a synthesis of 5...\",\n",
    "    \"Like being with someone who doesn't understand you and with whom you don't feel free to do be yourself. At least, I'd much rather be alone than with somebody who can't understand me.\",\n",
    "    \"Ha, you sound like a cool guy. My life goals sound fairly similar to yours. I bet at this point you're going to click on my profile and be very disappointed to find that I'm not an INFP and I'm not a...\",\n",
    "    \"Nope. You're not alone. I'm a singer and I love reading and writing fiction and listening to sad, deep music that I can get lost in and feel deep emotions with. I was a Humanities major in college as.\",\n",
    "    \"When I lived in bigger cities, I solved this by going by myself or occasionally if friends wanted to join (although I prefer going with outgoing friends who can socialize independently) to networking\",\n",
    "    \"Please, don't take photos of mundane, everyday moments that you'll forget anyway. In twenty years, it won't matter to you, or to the people you're with now. You'll even forget you have the photos.\",\n",
    "    \"being a leader isn't necessarily always for a large group setting; you can be leader of only a few people. :] you don't have to picture yourself giving a lecture in front of hundreds of people, haha\",\n",
    "    \"I really enjoy being alone these days\",\n",
    "    \"I'm pretty outdoorsy. I like travelling with friends and family. I feel like I come alive when I'm surrounded by nature.\"\n",
    "]"
   ]
  },
  {
   "cell_type": "code",
   "execution_count": 4,
   "id": "5e569216",
   "metadata": {},
   "outputs": [],
   "source": [
    "def send_request(text: str) -> dict:\n",
    "\n",
    "    '''\n",
    "    Sends a POST request to the prediction service with the given text.\n",
    "    \n",
    "    input: text (str): The text to be sent for prediction.\n",
    "    output: dict: The response from the prediction service.\n",
    "\n",
    "    '''\n",
    "\n",
    "    try:\n",
    "        response = requests.post(URL, json={\"text\": text})\n",
    "        return response.json()\n",
    "    \n",
    "    except Exception as e:\n",
    "        return {\"error\": str(e)}"
   ]
  },
  {
   "cell_type": "code",
   "execution_count": 5,
   "id": "949324a5",
   "metadata": {},
   "outputs": [],
   "source": [
    "def print_results(texts: list) -> None:\n",
    "    \n",
    "    '''\n",
    "    Prints the results of the predictions for each text. Calls the send_request function concurrently for each text.\n",
    "    \n",
    "    input: texts (list): List of texts to be analyzed.\n",
    "    output: None\n",
    "\n",
    "    how it works:\n",
    "    - Uses a ThreadPoolExecutor to send requests concurrently.\n",
    "    - Measures the total time taken for all requests.\n",
    "    - Prints the response for each text along with the total time taken.\n",
    "\n",
    "    '''\n",
    "    start_time = time.time()\n",
    "\n",
    "    with concurrent.futures.ThreadPoolExecutor(max_workers=4) as executor:\n",
    "        results = list(executor.map(send_request, texts))\n",
    "\n",
    "    end_time = time.time()\n",
    "\n",
    "    for i, res in enumerate(results):\n",
    "        print(f\"Text {i+1}: {texts[i]}\")\n",
    "        print(f\"Response: {res}\\n\")\n",
    "\n",
    "    print(f\"Total time: {end_time - start_time:.2f} seconds\")"
   ]
  },
  {
   "cell_type": "code",
   "execution_count": 7,
   "id": "f3adb5fd",
   "metadata": {},
   "outputs": [
    {
     "name": "stdout",
     "output_type": "stream",
     "text": [
      "Text 1: Somebody mentioned not blaming personality type for lack of success or something... For me it has helped to know the limits of my type so I can stop wanting delusional things like being a pop star...\n",
      "Response: {'labels': ['Introvert', 'Intuition', 'Feeling', 'Perceiving'], 'mbti': 'INFP'}\n",
      "\n",
      "Text 2: Ugh, so much procrastination. I started a paper that I had multiple months to do the day that it was due at 3 a.m. and finished it at 6 a.m. even though it had to be 8 pages and be a synthesis of 5...\n",
      "Response: {'labels': ['Introvert', 'Intuition', 'Thinking', 'Perceiving'], 'mbti': 'INTP'}\n",
      "\n",
      "Text 3: Like being with someone who doesn't understand you and with whom you don't feel free to do be yourself. At least, I'd much rather be alone than with somebody who can't understand me.\n",
      "Response: {'labels': ['Introvert', 'Intuition', 'Feeling', 'Perceiving'], 'mbti': 'INFP'}\n",
      "\n",
      "Text 4: Ha, you sound like a cool guy. My life goals sound fairly similar to yours. I bet at this point you're going to click on my profile and be very disappointed to find that I'm not an INFP and I'm not a...\n",
      "Response: {'labels': ['Introvert', 'Intuition', 'Feeling', 'Perceiving'], 'mbti': 'INFP'}\n",
      "\n",
      "Text 5: Nope. You're not alone. I'm a singer and I love reading and writing fiction and listening to sad, deep music that I can get lost in and feel deep emotions with. I was a Humanities major in college as.\n",
      "Response: {'labels': ['Introvert', 'Intuition', 'Feeling', 'Perceiving'], 'mbti': 'INFP'}\n",
      "\n",
      "Text 6: When I lived in bigger cities, I solved this by going by myself or occasionally if friends wanted to join (although I prefer going with outgoing friends who can socialize independently) to networking\n",
      "Response: {'labels': ['Introvert', 'Intuition', 'Thinking', 'Judging'], 'mbti': 'INTJ'}\n",
      "\n",
      "Text 7: Please, don't take photos of mundane, everyday moments that you'll forget anyway. In twenty years, it won't matter to you, or to the people you're with now. You'll even forget you have the photos.\n",
      "Response: {'labels': ['Introvert', 'Intuition', 'Feeling', 'Judging'], 'mbti': 'INFJ'}\n",
      "\n",
      "Text 8: being a leader isn't necessarily always for a large group setting; you can be leader of only a few people. :] you don't have to picture yourself giving a lecture in front of hundreds of people, haha\n",
      "Response: {'labels': ['Introvert', 'Intuition', 'Thinking', 'Judging'], 'mbti': 'INTJ'}\n",
      "\n",
      "Text 9: I really enjoy being alone these days\n",
      "Response: {'labels': ['Introvert', 'Intuition', 'Feeling', 'Perceiving'], 'mbti': 'INFP'}\n",
      "\n",
      "Text 10: I'm pretty outdoorsy. I like travelling with friends and family. I feel like I come alive when I'm surrounded by nature.\n",
      "Response: {'labels': ['Introvert', 'Intuition', 'Feeling', 'Perceiving'], 'mbti': 'INFP'}\n",
      "\n",
      "Total time: 1.65 seconds\n"
     ]
    }
   ],
   "source": [
    "print_results(texts)"
   ]
  }
 ],
 "metadata": {
  "kernelspec": {
   "display_name": "Python 3 (ipykernel)",
   "language": "python",
   "name": "python3"
  },
  "language_info": {
   "codemirror_mode": {
    "name": "ipython",
    "version": 3
   },
   "file_extension": ".py",
   "mimetype": "text/x-python",
   "name": "python",
   "nbconvert_exporter": "python",
   "pygments_lexer": "ipython3",
   "version": "3.12.3"
  }
 },
 "nbformat": 4,
 "nbformat_minor": 5
}
